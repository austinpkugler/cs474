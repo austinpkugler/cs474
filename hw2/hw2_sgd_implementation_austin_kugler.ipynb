{
 "cells": [
  {
   "cell_type": "markdown",
   "metadata": {},
   "source": [
    "## Homework 2: Wine Quality Prediction Using SGD\n",
    "### Course: CS 474/574: Deep Learning/2022 Fall\n",
    "### Due: 09/25/2022\n",
    "\n",
    "\n",
    "Add your code to the following sections:\n",
    "\n",
    "    ## add your code here\n",
    "    #-----------------------\n",
    "\n",
    "    #---------------------------------\n",
    "    \n",
    "Description: In this homework, you are going to practice cross-validation and implement the stochastic gradient optimization (mini-batch) to solve the wine quality prediction problem. Using the following code as your template. Specific requirements:\n",
    "\n",
    "1. Use all function definitions given in the code (e.g., def SGD(X, Y, lr = 0.001, batch_size = 32, epoch = 100):); and do not change the function names and input arguments. (deduct 5 points for doing this)\n",
    "\n",
    "2. Evaluate (Cross-validation) the model trained using GD (20 points)\n",
    "\n",
    "3. SGD implementation. 40 pts\n",
    "   \n",
    "4. Calculate and print out the MSE and MAE values of SGD for the training and test sets (15 points)\n",
    "5. Plot the loss curve of the SGD. (5 points)\n",
    "6. Plot the mse curves on the training and test sets using different models (w_hist). (20 points)\n",
    "\n",
    "### Common mistakes\n",
    "    \n",
    "1. Call GD and SGD using the whole dataset\n",
    "\n",
    "    -- GD and SGD are used to optimize the model (learn w); and we should call them using the training sets\n",
    "   \n",
    "2. Calculate gradient using the whole training set for SGD\n",
    "    \n",
    "    -- In SGD, update gradient only using mini-batches\n",
    "  \n",
    "3. Calculate the loss of each epoch using the average of all minibatches\n",
    "    \n",
    "    -- should use the w of the last mini-batch and the whole training set to calculate the loss  \n",
    "   \n",
    "4. Mix concepts of loss function and evaulation metrics\n",
    "    -- loss function: for optimization purpose (gradient). We use the sum of square errors in this homework. L = 1/2 * sum(y_hat_i - y_i)^2\n",
    "    \n",
    "    -- evaluation metrics: mse and mae: mse = 1/m * sum(y_hat_i - y_i)^2, mae = 1/m * sum(abs(y_hat_i - y_i))"
   ]
  },
  {
   "cell_type": "markdown",
   "metadata": {},
   "source": [
    "### 1. Load data, implement the model, loss function and GD "
   ]
  },
  {
   "cell_type": "code",
   "execution_count": 34,
   "metadata": {},
   "outputs": [
    {
     "name": "stdout",
     "output_type": "stream",
     "text": [
      "Data shape: X: (4898, 11) Y: (4898,)\n"
     ]
    }
   ],
   "source": [
    "import pandas as pd\n",
    "import numpy as np\n",
    "from matplotlib import pyplot as plt\n",
    "\n",
    "## (1) Data preparation\n",
    "df=pd.read_csv('winequality-white.csv', sep = ';')\n",
    "df\n",
    "X = df.values[:, :11]\n",
    "Y = df.values[:, 11]\n",
    "print('Data shape:', 'X:', X.shape, 'Y:', Y.shape)\n",
    "\n",
    "# data normalization\n",
    "min_vals = np.min(X, axis = 0)\n",
    "max_vals = np.max(X, axis = 0)\n",
    "X1 = (X-min_vals)/(max_vals-min_vals)\n",
    "\n",
    "##(2) Assume a linear mode that y = w0*1 + w_1*x_1 +w_2*x_2+...+ w_11*x_11\n",
    "def predict(X, w):\n",
    "    '''\n",
    "    X: input feature vectors:m*n\n",
    "    w: weights\n",
    "\n",
    "    return Y_hat\n",
    "    '''\n",
    "    # Prediction\n",
    "    Y_hat = np.zeros((X.shape[0]))\n",
    "    for idx, x in enumerate(X):\n",
    "        y_hat = w[0] + np.dot(w[1:].T, np.c_[x]) # linear model\n",
    "        Y_hat[idx] = y_hat\n",
    "    return Y_hat\n",
    "\n",
    "## (3) Loss function: L = 1/2 * sum(y_hat_i - y_i)^2\n",
    "def loss(w, X, Y):\n",
    "    '''\n",
    "    w: weights\n",
    "    X: input feature vectors\n",
    "    Y: targets\n",
    "    '''\n",
    "    Y_hat = predict(X, w)\n",
    "    loss = 1/2* np.sum(np.square(Y - Y_hat))\n",
    "    \n",
    "    return loss\n",
    "\n",
    "# Optimization 1: Gradient Descent\n",
    "def GD(X, Y, lr = 0.001, delta = 0.01, max_iter = 100):\n",
    "    '''\n",
    "    X: training data\n",
    "    Y: training target\n",
    "    lr: learning rate\n",
    "    max_iter: the max iterations\n",
    "    '''\n",
    "\n",
    "    m = len(Y)\n",
    "    b = np.reshape(Y, [Y.shape[0],1])\n",
    "    w = np.random.rand(X.shape[1] + 1, 1)\n",
    "    A = np.c_[np.ones((m, 1)), X]\n",
    "    gradient = A.T.dot(np.dot(A, w)-b)\n",
    "\n",
    "    loss_hist = np.zeros(max_iter) # history of loss\n",
    "    w_hist = np.zeros((max_iter, w.shape[0])) # history of weight\n",
    "    loss_w = 0\n",
    "    i = 0\n",
    "    while(np.linalg.norm(gradient) > delta) and (i < max_iter):\n",
    "        w_hist[i,:] = w.T\n",
    "        loss_w = loss(w, X, Y)\n",
    "        print(i, 'loss:', loss_w)\n",
    "        loss_hist[i] = loss_w\n",
    "\n",
    "        w = w - lr*gradient\n",
    "        gradient = A.T.dot(np.dot(A, w)-b) # update the gradient using new w\n",
    "        i = i + 1\n",
    "\n",
    "    w_star = w\n",
    "    return w_star, loss_hist, w_hist"
   ]
  },
  {
   "cell_type": "markdown",
   "metadata": {},
   "source": [
    "### 2. Model evaluation using cross-validation (20 points)"
   ]
  },
  {
   "cell_type": "code",
   "execution_count": 35,
   "metadata": {},
   "outputs": [
    {
     "name": "stdout",
     "output_type": "stream",
     "text": [
      "(3428, 11) (1470, 11)\n"
     ]
    }
   ],
   "source": [
    "## 2.1 Split the dataset into training (70%) and test (30%) sets. (5 points)\n",
    "# from sklearn.model_selection import train_test_split\n",
    "# Use the normalized data X1 when we call the train_test_split function.\n",
    "\n",
    "## add your code here\n",
    "#-----------------------\n",
    "from sklearn.model_selection import train_test_split\n",
    "\n",
    "\n",
    "X_train, X_test, y_train, y_test = train_test_split(X1, Y, test_size = 0.3, random_state = 2)\n",
    "print(X_train.shape, X_test.shape)\n",
    "#---------------------------------"
   ]
  },
  {
   "cell_type": "code",
   "execution_count": 36,
   "metadata": {
    "scrolled": true
   },
   "outputs": [
    {
     "name": "stdout",
     "output_type": "stream",
     "text": [
      "0 loss: 24378.22559211909\n",
      "1 loss: 4954.646015655625\n",
      "2 loss: 1868.801652949437\n",
      "3 loss: 1375.662719844669\n",
      "4 loss: 1294.0410201055256\n",
      "5 loss: 1277.8034031781167\n",
      "6 loss: 1272.0199268191277\n",
      "7 loss: 1267.9714826245581\n",
      "8 loss: 1264.2721879834235\n",
      "9 loss: 1260.6999333274384\n",
      "10 loss: 1257.2173553457483\n",
      "11 loss: 1253.8164740041539\n",
      "12 loss: 1250.494036054339\n",
      "13 loss: 1247.2476002972153\n",
      "14 loss: 1244.0749143994867\n",
      "15 loss: 1240.9738141056969\n",
      "16 loss: 1237.9422054088066\n",
      "17 loss: 1234.9780599435553\n",
      "18 loss: 1232.0794125344696\n",
      "19 loss: 1229.2443591403335\n",
      "20 loss: 1226.4710549143902\n",
      "21 loss: 1223.757712334047\n",
      "22 loss: 1221.1025993911267\n",
      "23 loss: 1218.5040378396739\n",
      "24 loss: 1215.9604014993183\n",
      "25 loss: 1213.4701146124069\n",
      "26 loss: 1211.0316502531948\n",
      "27 loss: 1208.643528787442\n",
      "28 loss: 1206.3043163808165\n",
      "29 loss: 1204.0126235545586\n",
      "30 loss: 1201.7671037868993\n",
      "31 loss: 1199.5664521587944\n",
      "32 loss: 1197.4094040425525\n",
      "33 loss: 1195.294733832011\n",
      "34 loss: 1193.2212537129315\n",
      "35 loss: 1191.1878124723457\n",
      "36 loss: 1189.1932943456106\n",
      "37 loss: 1187.2366178999828\n",
      "38 loss: 1185.3167349535481\n",
      "39 loss: 1183.4326295283877\n",
      "40 loss: 1181.5833168368968\n",
      "41 loss: 1179.7678423001985\n",
      "42 loss: 1177.9852805976418\n",
      "43 loss: 1176.2347347463922\n",
      "44 loss: 1174.5153352101618\n",
      "45 loss: 1172.8262390361615\n",
      "46 loss: 1171.1666290193652\n",
      "47 loss: 1169.5357128932385\n",
      "48 loss: 1167.9327225460747\n",
      "49 loss: 1166.356913262141\n",
      "50 loss: 1164.8075629868363\n",
      "51 loss: 1163.2839716151086\n",
      "52 loss: 1161.7854603023875\n",
      "53 loss: 1160.3113707973198\n",
      "54 loss: 1158.8610647956202\n",
      "55 loss: 1157.433923314364\n",
      "56 loss: 1156.0293460860698\n",
      "57 loss: 1154.6467509719578\n",
      "58 loss: 1153.285573393759\n",
      "59 loss: 1151.9452657835009\n",
      "60 loss: 1150.6252970506894\n",
      "61 loss: 1149.3251520663457\n",
      "62 loss: 1148.0443311633524\n",
      "63 loss: 1146.7823496526012\n",
      "64 loss: 1145.5387373544365\n",
      "65 loss: 1144.31303814491\n",
      "66 loss: 1143.1048095163812\n",
      "67 loss: 1141.9136221519998\n",
      "68 loss: 1140.7390595136417\n",
      "69 loss: 1139.5807174428633\n",
      "70 loss: 1138.4382037744645\n",
      "71 loss: 1137.311137962261\n",
      "72 loss: 1136.1991507166786\n",
      "73 loss: 1135.1018836537944\n",
      "74 loss: 1134.018988955463\n",
      "75 loss: 1132.9501290401768\n",
      "76 loss: 1131.894976244315\n",
      "77 loss: 1130.853212513462\n",
      "78 loss: 1129.8245291034682\n",
      "79 loss: 1128.8086262909433\n",
      "80 loss: 1127.8052130928934\n",
      "81 loss: 1126.8140069951999\n",
      "82 loss: 1125.8347336896672\n",
      "83 loss: 1124.8671268193677\n",
      "84 loss: 1123.9109277320172\n",
      "85 loss: 1122.9658852411299\n",
      "86 loss: 1122.0317553947057\n",
      "87 loss: 1121.10830125121\n",
      "88 loss: 1120.1952926626168\n",
      "89 loss: 1119.2925060642888\n",
      "90 loss: 1118.399724271482\n",
      "91 loss: 1117.5167362822594\n",
      "92 loss: 1116.6433370866177\n",
      "93 loss: 1115.779327481623\n",
      "94 loss: 1114.9245138923707\n",
      "95 loss: 1114.0787081985832\n",
      "96 loss: 1113.2417275666653\n",
      "97 loss: 1112.4133942870485\n",
      "98 loss: 1111.5935356166517\n",
      "99 loss: 1110.7819836263016\n"
     ]
    }
   ],
   "source": [
    "## 2.2 Model training using the training set and the GD function (5 points )\n",
    "# Use a small learning rate (le-4) rather than the default learning rate when calling the default GD function.\n",
    "## add your code here\n",
    "#-----------------------\n",
    "w_star, loss_hist, w_hist = GD(X_train, y_train, lr = 0.0001)\n",
    "#---------------------------------"
   ]
  },
  {
   "cell_type": "code",
   "execution_count": 37,
   "metadata": {},
   "outputs": [
    {
     "name": "stdout",
     "output_type": "stream",
     "text": [
      "training mse: 0.6475954346866688 and training mae: 0.6258677005587651\n",
      "test mse: 0.6550138365060324 and test mae: 0.6282117253789045\n"
     ]
    }
   ],
   "source": [
    "## 2.3. calculating mse&mae values on the training set and test set, respectively. (10 points)\n",
    "\n",
    "#training error\n",
    "## add your code here\n",
    "#-----------------------\n",
    "from sklearn.metrics import mean_squared_error, mean_absolute_error\n",
    "\n",
    "\n",
    "y_pred_train = predict(X_train, w_star)\n",
    "mse_train = mean_squared_error(y_train, y_pred_train)\n",
    "mae_train = mean_absolute_error(y_train, y_pred_train)\n",
    "print('training mse: {} and training mae: {}'.format(mse_train, mae_train))\n",
    "#---------------------------------\n",
    "\n",
    "\n",
    "## test error\n",
    "## add your code here\n",
    "#-----------------------\n",
    "y_pred_test = predict(X_test, w_star)\n",
    "mse_test = mean_squared_error(y_test, y_pred_test)\n",
    "mae_test = mean_absolute_error(y_test, y_pred_test)\n",
    "print('test mse: {} and test mae: {}'.format(mse_test, mae_test))\n",
    "#---------------------------------"
   ]
  },
  {
   "cell_type": "markdown",
   "metadata": {},
   "source": [
    "### 3. SGD implementation (40 points)\n",
    "Use the SGD function definition given in the code (def SGD(X, Y, lr = 0.001, batch_size = 32, epoch = 100):); and do not change it."
   ]
  },
  {
   "cell_type": "code",
   "execution_count": 38,
   "metadata": {
    "scrolled": true
   },
   "outputs": [],
   "source": [
    "# Shuffle data\n",
    "\n",
    "# Use the shuffle function in sklearn.utils to shuffle data. But you need to import it first: from sklearn.utils import shuffle;\n",
    "# Use function np.random.permutation\n",
    "\n",
    "def SGD(X, Y, lr = 0.001, batch_size = 32, epoch = 100): \n",
    "    '''Implement the minibatch Gradient Desent approach\n",
    "\n",
    "        X: training data\n",
    "        Y: training target\n",
    "        lr: learning rate\n",
    "        batch_size: batch size\n",
    "        epoch: number of max epoches\n",
    "\n",
    "        return: w_star, w_hist, loss_hist\n",
    "    '''\n",
    "    m = len(Y)\n",
    "    np.random.seed(9)\n",
    "    w = np.random.rand(X.shape[1]+1, 1)    #(12,1) values in [0, 1)\n",
    "    w_hist = np.zeros((epoch, w.shape[0])) # (epoch,12)\n",
    "    loss_hist = np.zeros(epoch)            # (epoch,)\n",
    "\n",
    "\n",
    "    ## add your code here\n",
    "    #-----------------------\n",
    "    from sklearn.utils import shuffle\n",
    "\n",
    "\n",
    "    for i in range(epoch):\n",
    "        #(1) Shuffle data (X and Y) at the beginning of each epoch. (5 points)\n",
    "        X_shuffle, Y_shuffle = shuffle(X), shuffle(Y)\n",
    "\n",
    "        #(2) go through all minibatches and update w. (30 points)\n",
    "        for b in range(int(m/batch_size)):\n",
    "            # prepare the b mininath X_batch and Y_batch. 10 points\n",
    "            X_batch = X_shuffle[(batch_size * b):(batch_size * (b + 1))]\n",
    "            Y_batch = Y_shuffle[(batch_size * b):(batch_size * (b + 1))]\n",
    "\n",
    "            #prepare A_batch and b_batch. 10 points\n",
    "            A_batch = np.c_[np.ones((batch_size, 1)), X_batch]\n",
    "            b_batch = np.reshape(Y_batch, [Y_batch.shape[0], 1])\n",
    "\n",
    "            #gradient calcualation and w update. 10 points\n",
    "            grad = A_batch.T.dot(np.dot(A_batch, w) - b_batch)\n",
    "            w = w - (lr * grad)\n",
    "            # print(i, b, X_batch.shape, A_batch.shape)\n",
    "\n",
    "        ## (3) Save the loss and current weight for each epoch. 5 points\n",
    "        w_hist[i, :] = w.T\n",
    "        loss_hist[i] = loss(w, X, Y)\n",
    "        # print(i, loss_hist[i])\n",
    "\n",
    "        ##(4) Decay learning rate at the end of each epoch. \n",
    "        lr = lr * 0.9\n",
    "    #---------------------------------\n",
    "\n",
    "    w_star = w\n",
    "    return w_star, w_hist, loss_hist"
   ]
  },
  {
   "cell_type": "markdown",
   "metadata": {},
   "source": [
    "### 4. Calculate and print out the MSE and MAE values of SGD for the training and test sets (15 points)"
   ]
  },
  {
   "cell_type": "code",
   "execution_count": 39,
   "metadata": {
    "scrolled": true
   },
   "outputs": [
    {
     "name": "stdout",
     "output_type": "stream",
     "text": [
      "pred. quality value = 5.705264125985375, true quality value = 5.0\n",
      "pred. quality value = 5.7045514979499, true quality value = 7.0\n",
      "pred. quality value = 5.935775745402271, true quality value = 6.0\n",
      "pred. quality value = 5.826778393576758, true quality value = 5.0\n",
      "pred. quality value = 6.305169433676045, true quality value = 6.0\n",
      "pred. quality value = 6.045380242497995, true quality value = 7.0\n",
      "pred. quality value = 6.151213059301382, true quality value = 6.0\n",
      "pred. quality value = 6.263263772082089, true quality value = 6.0\n",
      "pred. quality value = 5.786968869666548, true quality value = 7.0\n",
      "pred. quality value = 5.936212707875384, true quality value = 6.0\n",
      "training mse: 0.6475954346866688 and training mae: 0.6258677005587651\n",
      "test mse: 0.6550138365060324 and test mae: 0.6282117253789045\n"
     ]
    }
   ],
   "source": [
    "batch_size = 32\n",
    "n_epochs = 50\n",
    "\n",
    "#train model using SGD\n",
    "w_star_SGD, w_hist_SGD, loss_hist_SGD = SGD(X_train, y_train, lr = 0.0001, batch_size = batch_size, epoch = n_epochs)\n",
    "\n",
    "## add your code here\n",
    "#-----------------------\n",
    "#(1) print out the predicted wine quality values and the true quality \n",
    "# values of the first 10 data samples in the test dataset.  5 points\n",
    "y_pred_test = predict(X_test, w_star)\n",
    "\n",
    "for i in range(10):\n",
    "    print('pred. quality value = {}, true quality value = {}'.format(y_pred_test[i], y_test[i]))\n",
    "\n",
    "#(2) mse and mae of the training set. 5 points\n",
    "y_pred_train = predict(X_train, w_star)\n",
    "\n",
    "mse_train = mean_squared_error(y_train, y_pred_train)\n",
    "mae_train = mean_absolute_error(y_train, y_pred_train)\n",
    "print('training mse: {} and training mae: {}'.format(mse_train, mae_train))\n",
    "\n",
    "#(3)mse and mae of the test set. 5 points\n",
    "mse_test = mean_squared_error(y_test, y_pred_test)\n",
    "mae_test = mean_absolute_error(y_test, y_pred_test)\n",
    "print('test mse: {} and test mae: {}'.format(mse_test, mae_test))\n",
    "#---------------------------------"
   ]
  },
  {
   "cell_type": "markdown",
   "metadata": {},
   "source": [
    "### 5. Plot the loss curve of the SGD. (5 points)"
   ]
  },
  {
   "cell_type": "code",
   "execution_count": 40,
   "metadata": {},
   "outputs": [
    {
     "data": {
      "image/png": "[encoded data removed]",
      "text/plain": [
       "<Figure size 432x288 with 1 Axes>"
      ]
     },
     "metadata": {
      "needs_background": "light"
     },
     "output_type": "display_data"
    }
   ],
   "source": [
    "# Plot the values in loss_hist_SGD; and the horizontal axis is epoch.\n",
    "\n",
    "## add your code here\n",
    "#-----------------------\n",
    "plt.hist(loss_hist_SGD)\n",
    "plt.title('SGD Loss Curve')\n",
    "plt.xlabel('Epoch')\n",
    "plt.ylabel('Loss')\n",
    "plt.show()\n",
    "#---------------------------------"
   ]
  },
  {
   "cell_type": "markdown",
   "metadata": {},
   "source": [
    "### 6. Plot the mse curves on the training and test sets using different models (w_hist). (20 points)"
   ]
  },
  {
   "cell_type": "code",
   "execution_count": 46,
   "metadata": {},
   "outputs": [
    {
     "data": {
      "image/png": "[encoded data removed]",
      "text/plain": [
       "<Figure size 432x288 with 1 Axes>"
      ]
     },
     "metadata": {
      "needs_background": "light"
     },
     "output_type": "display_data"
    }
   ],
   "source": [
    "# Plot the MSE curves of the \"SGD\" approach\n",
    "# each row in w_hist_SGD is one linear model\n",
    "# apply each linear model to predict using the training and test sets\n",
    "# calculate mse values for both training and test sets\n",
    "mse_SGD_train=np.zeros(n_epochs)\n",
    "mse_SGD_test=np.zeros(n_epochs)\n",
    "\n",
    "## add your code here\n",
    "#-----------------------\n",
    "for row in range(len(w_hist_SGD)):\n",
    "    y_pred_train = predict(X_train, w_hist_SGD[row])\n",
    "    mse_SGD_train[row] = mean_squared_error(y_train, y_pred_train)\n",
    "    y_pred_test = predict(X_test, w_hist_SGD[row])\n",
    "    mse_SGD_test[row] = mean_squared_error(y_test, y_pred_test)\n",
    "\n",
    "plt.plot(mse_SGD_train, label=\"MSE SGD Train\")\n",
    "plt.plot(mse_SGD_test, label=\"MSE SGD Test\")\n",
    "plt.title(\"MSE Curve of SGD Approach\")\n",
    "plt.xlabel('Linear Model')\n",
    "plt.ylabel('MSE Value')\n",
    "plt.legend()\n",
    "plt.show()\n",
    "#---------------------------------"
   ]
  }
 ],
 "metadata": {
  "kernelspec": {
   "display_name": "Python 3.9.12 ('base')",
   "language": "python",
   "name": "python3"
  },
  "language_info": {
   "codemirror_mode": {
    "name": "ipython",
    "version": 3
   },
   "file_extension": ".py",
   "mimetype": "text/x-python",
   "name": "python",
   "nbconvert_exporter": "python",
   "pygments_lexer": "ipython3",
   "version": "3.9.12"
  },
  "vscode": {
   "interpreter": {
    "hash": "1448b48b023bcc9c3d4a79e814720a10ca6d4244f75e0f7ce4af58f96ba2b7d3"
   }
  }
 },
 "nbformat": 4,
 "nbformat_minor": 2
}
